{
 "cells": [
  {
   "cell_type": "markdown",
   "id": "715f622a",
   "metadata": {},
   "source": [
    "# Data Science Tools And Ecosystems"
   ]
  },
  {
   "cell_type": "markdown",
   "id": "a179f682",
   "metadata": {},
   "source": [
    "**Objectives**\n",
    "* python \n",
    "* R\n",
    "* Sql\n"
   ]
  },
  {
   "cell_type": "markdown",
   "id": "a9e027d2",
   "metadata": {},
   "source": [
    "In this notbook, Data science Tools and ecosytems are sumarized "
   ]
  },
  {
   "cell_type": "markdown",
   "id": "eb0c05b8",
   "metadata": {},
   "source": [
    "Some of the popular languages that Data Scientists use are:\n",
    "\n",
    "\n",
    "    1. Python\n",
    "    2. SQL\n",
    "    3. R"
   ]
  },
  {
   "cell_type": "markdown",
   "id": "5c9615c8",
   "metadata": {},
   "source": [
    "Some of the commonly used libraries used by Data Scientists include:\n",
    "\n",
    "    1. TensorFlow\n",
    "    2. NumPy\n",
    "    3. Pandas\n",
    "    4. SciPy\n",
    "    \n",
    "    \n",
    "\n"
   ]
  },
  {
   "cell_type": "code",
   "execution_count": 1,
   "id": "a3ffdb3e",
   "metadata": {},
   "outputs": [
    {
     "data": {
      "text/html": [
       "<style>\n",
       "table {float:left}\n",
       "</style>\n"
      ],
      "text/plain": [
       "<IPython.core.display.HTML object>"
      ]
     },
     "metadata": {},
     "output_type": "display_data"
    }
   ],
   "source": [
    "%%html\n",
    "<style>\n",
    "table {float:left}\n",
    "</style>"
   ]
  },
  {
   "cell_type": "markdown",
   "id": "39f444b0",
   "metadata": {},
   "source": [
    "| Data Science Tools |\n",
    "|:-------------------|\n",
    "|Jupyter Notebook| \n",
    "|RStudio|\n",
    "|GitHub|\n"
   ]
  },
  {
   "cell_type": "markdown",
   "id": "dd0e3eda",
   "metadata": {},
   "source": [
    "### Below are a few examples of evaluating arithmetic expresssions in Python"
   ]
  },
  {
   "cell_type": "code",
   "execution_count": 2,
   "id": "fbe29f80",
   "metadata": {},
   "outputs": [
    {
     "data": {
      "text/plain": [
       "17"
      ]
     },
     "execution_count": 2,
     "metadata": {},
     "output_type": "execute_result"
    }
   ],
   "source": [
    "(3*4)+ 5\n",
    "#This is a simple arithmetic expresssion to multiply then add integers"
   ]
  },
  {
   "cell_type": "code",
   "execution_count": 3,
   "id": "6e3b0f10",
   "metadata": {},
   "outputs": [
    {
     "data": {
      "text/plain": [
       "3.3333333333333335"
      ]
     },
     "execution_count": 3,
     "metadata": {},
     "output_type": "execute_result"
    }
   ],
   "source": [
    "#This will convert 200 minutes to hours by dividing by 60\n",
    "200/60"
   ]
  },
  {
   "cell_type": "markdown",
   "id": "1faad49d",
   "metadata": {},
   "source": [
    "## AUTHOR \n",
    "Marcos Ramos"
   ]
  },
  {
   "cell_type": "code",
   "execution_count": null,
   "id": "47d65c41",
   "metadata": {},
   "outputs": [],
   "source": []
  }
 ],
 "metadata": {
  "kernelspec": {
   "display_name": "Python 3 (ipykernel)",
   "language": "python",
   "name": "python3"
  },
  "language_info": {
   "codemirror_mode": {
    "name": "ipython",
    "version": 3
   },
   "file_extension": ".py",
   "mimetype": "text/x-python",
   "name": "python",
   "nbconvert_exporter": "python",
   "pygments_lexer": "ipython3",
   "version": "3.11.5"
  }
 },
 "nbformat": 4,
 "nbformat_minor": 5
}
